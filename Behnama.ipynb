{
 "cells": [
  {
   "cell_type": "code",
   "execution_count": null,
   "id": "643b4cf4-0cf5-4a9c-a619-a23d4ccbb4b6",
   "metadata": {},
   "outputs": [],
   "source": [
    "class getlinks:\n",
    "    import requests as req\n",
    "    import re\n",
    "    import bs4 as bs\n",
    "    from datetime import datetime\n",
    "    import cv2\n",
    "    import imutiimls"
   ]
  },
  {
   "cell_type": "code",
   "execution_count": 7,
   "id": "9259b504-b173-4753-bad6-7135d9a2cdf2",
   "metadata": {},
   "outputs": [],
   "source": [
    "    def __init__(self):\n",
    "        pass\n",
    "    \n",
    "    "
   ]
  },
  {
   "cell_type": "code",
   "execution_count": 8,
   "id": "0df0ed7d-9c71-4a06-83fe-e0b6038d3ea4",
   "metadata": {},
   "outputs": [],
   "source": [
    "    def feedbackurl(*fb):\n",
    "        \n",
    "        if fb == 200:\n",
    "            print(\"همه چیز عادی است.ارتباط برقرار شد.\")\n",
    "        elif fb ==403:\n",
    "            print(\"دسترسی به سایت مسدود شده است. به ادمین اطلاع دهید.\")\n",
    "        elif fb ==404:\n",
    "            print(\"صفحه مورد نظر حذف شده است. به ادمین اطلاع دهید.\")\n",
    "        elif fb =='err' :\n",
    "            print (\"در قسمت دریافت اطلاعات از سایت یک اتفاق نا مشخص رخ داده است. به ادمین اطلاع دهید.\")\n",
    "   "
   ]
  },
  {
   "cell_type": "code",
   "execution_count": 9,
   "id": "b5c153f5-f1af-4263-8700-4ce7ab1c06d8",
   "metadata": {},
   "outputs": [],
   "source": [
    "    def getdata():\n",
    "        url=\"https://tehranpakhshmobile.com/mobile-price-list-and-accessories\"\n",
    "\n",
    "        headers = {'User-Agent': 'Mozilla/5.0 (Macintosh; Intel Mac OS X 10_11_5) AppleWebKit/537.36 (KHTML, like Gecko) Chrome/50.0.2661.102 Safari/537.36'}\n",
    "        \n",
    "        r=req.get(url,headers=headers)\n",
    "        try :\n",
    "            if str(r) == '<Response [200]>' :\n",
    "                feedbackurl(200)\n",
    "            elif str(r) == '<Response [403]>':\n",
    "                feedbackurl(403)\n",
    "            elif str(r) == '<Response [404]>':\n",
    "                feedbackurl(404)\n",
    "            else :\n",
    "                feedbackurl('err')\n",
    "                \n",
    "        except:\n",
    "            print(\"ارور نا معلوم در بخش دریافت اطلاعات\")\n",
    "            \n",
    "        return r.text #BlankPage\n",
    "    \n",
    "                "
   ]
  },
  {
   "cell_type": "code",
   "execution_count": 10,
   "id": "0513c1ec-3585-4364-973f-b753ecacf4bd",
   "metadata": {},
   "outputs": [],
   "source": [
    "#    def process_data(BlanckPage):\n",
    "#        NewLinks=[]\n",
    "#        soup=bs.BeautifulSoup(BlanckPage,'html.parser')\n",
    "#        for link in soup.find_all('img'):\n",
    "#            NewLinks.append(link.get('data-src'))\n",
    "#        return NewLinks"
   ]
  },
  {
   "cell_type": "code",
   "execution_count": null,
   "id": "443d1d70-b3f4-442a-9a18-72c2d4992c4c",
   "metadata": {},
   "outputs": [],
   "source": [
    "    def process_data(BlankPage):\n",
    "        regex = r\"alignnone.*src=\\\"(.*)\\\" alt.*/>\"\n",
    "        matches = re.finditer(regex, BlankPage, re.MULTILINE)\n",
    "        \n",
    "        for matchNum, match in enumerate(matches, start=1):  \n",
    "            for groupNum in range(0, len(match.groups())):\n",
    "                groupNum = groupNum + 1\n",
    "        \n",
    "                new_url = match.group(groupNum)\n",
    "        return new_url\n"
   ]
  },
  {
   "cell_type": "code",
   "execution_count": 11,
   "id": "c4f0040b-d7ed-47c2-a670-fd0c49709e60",
   "metadata": {},
   "outputs": [],
   "source": [
    "    def dlCheck(old,new):\n",
    "        if old != new:\n",
    "            old=new\n",
    "            dlmman(old)# activate new downlad\n",
    "            return old\n",
    "        else :\n",
    "            print('تغییری ایجاد نشده است.')\n",
    "            return old\n",
    "        \n",
    "        \n",
    "        "
   ]
  },
  {
   "cell_type": "code",
   "execution_count": 7,
   "id": "d689730c-492b-4ba5-bdb2-a2562b223c15",
   "metadata": {},
   "outputs": [],
   "source": [
    "def newOld():\n",
    "    global oldimg\n",
    "    oldimg=newimg"
   ]
  },
  {
   "cell_type": "code",
   "execution_count": 14,
   "id": "9996930d-4d8b-4c4d-a84a-5f5060b673f5",
   "metadata": {},
   "outputs": [],
   "source": [
    "    def dlman(newdl):\n",
    "        try:\n",
    "            newOld()\n",
    "            global newimg\n",
    "            newimg=str(datetime.now())\n",
    "            img=req.get(newdl,headers=headers).content\n",
    "\n",
    "            with open(newimg+'.png', 'wb') as handler:\n",
    "                 handler.write(img)\n",
    "            \n",
    "        \n",
    "        except:\n",
    "            print(\"یک مشکل در دانلود منیجر رخداده است.\")\n",
    "            "
   ]
  },
  {
   "cell_type": "code",
   "execution_count": 15,
   "id": "1360ef08-70e1-4a69-8177-fedf5d911f8a",
   "metadata": {},
   "outputs": [],
   "source": [
    "    def comparing(newimg,oldimg):\n",
    "        try:\n",
    "            original = cv2.imread(\"1.png\")\n",
    "            new = cv2.imread(\"2.png\")\n",
    "            \n",
    "            original = imutils.resize(original, height = 600)\n",
    "            new = imutils.resize(new, height = 600)\n",
    "            \n",
    "            diff = original.copy()\n",
    "            cv2.absdiff(original, new, diff)\n",
    "            gray = cv2.cvtColor(diff, cv2.COLOR_BGR2GRAY)\n",
    "        \n",
    "            for i in range(0, 3):\n",
    "                dilated = cv2.dilate(gray.copy(), None, iterations= i+ 1)\n",
    "        \n",
    "            (T, thresh) = cv2.threshold(dilated, 3, 255, cv2.THRESH_BINARY)\n",
    "            cnts = cv2.findContours(thresh, cv2.RETR_LIST, cv2.CHAIN_APPROX_SIMPLE)\n",
    "            cnts = imutils.grab_contours(cnts)\n",
    " \n",
    "            for c in cnts:\n",
    "\n",
    "                (x, y, w, h) = cv2.boundingRect(c)\n",
    "            cv2.rectangle(new, (x, y), (x + w, y + h), (0, 255, 0), 2)\n",
    "\n",
    "            cv2.imwrite(\"changes.png\", new)\n",
    "        \n",
    "        \n",
    "        except:\n",
    "            print(\"در تشخص تفاوت مشکلی پیش آمده است.\")"
   ]
  },
  {
   "cell_type": "code",
   "execution_count": 16,
   "id": "7deb9d5e-be0e-4ce6-aa95-d759bd960e08",
   "metadata": {},
   "outputs": [],
   "source": [
    "    def view():\n",
    "        img = cv2.imread(\"diff.png\", cv2.IMREAD_ANYCOLOR)\n",
    " \n",
    "        while True:\n",
    "            cv2.imshow(\"!!! NEW CHANGES !!!\", img)\n",
    "            cv2.waitKey(0)"
   ]
  },
  {
   "cell_type": "code",
   "execution_count": null,
   "id": "53bf136f-f81a-49db-a5b2-5c6b8a71e8e2",
   "metadata": {},
   "outputs": [],
   "source": []
  }
 ],
 "metadata": {
  "kernelspec": {
   "display_name": "Python 3 (ipykernel)",
   "language": "python",
   "name": "python3"
  },
  "language_info": {
   "codemirror_mode": {
    "name": "ipython",
    "version": 3
   },
   "file_extension": ".py",
   "mimetype": "text/x-python",
   "name": "python",
   "nbconvert_exporter": "python",
   "pygments_lexer": "ipython3",
   "version": "3.9.13"
  }
 },
 "nbformat": 4,
 "nbformat_minor": 5
}
